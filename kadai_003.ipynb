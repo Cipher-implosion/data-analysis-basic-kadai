{
  "nbformat": 4,
  "nbformat_minor": 0,
  "metadata": {
    "colab": {
      "provenance": []
    },
    "kernelspec": {
      "name": "python3",
      "display_name": "Python 3"
    },
    "language_info": {
      "name": "python"
    }
  },
  "cells": [
    {
      "cell_type": "code",
      "execution_count": 7,
      "metadata": {
        "colab": {
          "base_uri": "https://localhost:8080/"
        },
        "id": "InLEqrGaDidj",
        "outputId": "018b78c7-5eb2-45f1-e462-6edb8cfd943b"
      },
      "outputs": [
        {
          "output_type": "stream",
          "name": "stdout",
          "text": [
            "[[ 4  5  6  7]\n",
            " [12 17 22 27]\n",
            " [20 29 38 47]]\n"
          ]
        },
        {
          "output_type": "execute_result",
          "data": {
            "text/plain": [
              "47"
            ]
          },
          "metadata": {},
          "execution_count": 7
        }
      ],
      "source": [
        "# NumPyをインポート\n",
        "import numpy as np\n",
        "\n",
        "# AとBの行列を格納する多次元配列\n",
        "A = np.array([[0,1],[2,3],[4,5]])\n",
        "B = np.array([[0,1,2,3,],[4,5,6,7]])\n",
        "\n",
        "# 行列の積の計算をする\n",
        "np_dot = np.dot(A,B)\n",
        "\n",
        "# 計算結果を表示する\n",
        "print(np_dot)\n",
        "\n",
        "# 行列の要素の最大値を求める\n",
        "np.max(np_dot)\n"
      ]
    }
  ]
}